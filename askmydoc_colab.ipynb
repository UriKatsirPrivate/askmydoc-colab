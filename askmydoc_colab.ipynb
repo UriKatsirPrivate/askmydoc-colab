{
  "nbformat": 4,
  "nbformat_minor": 0,
  "metadata": {
    "colab": {
      "provenance": [],
      "private_outputs": true,
      "collapsed_sections": [
        "kiCkuelFBrGN",
        "F0z9WyTi2Fth"
      ],
      "toc_visible": true,
      "authorship_tag": "ABX9TyOL2ebOe0e0l6coBUIX1aQ7",
      "include_colab_link": true
    },
    "kernelspec": {
      "name": "python3",
      "display_name": "Python 3"
    },
    "language_info": {
      "name": "python"
    }
  },
  "cells": [
    {
      "cell_type": "markdown",
      "metadata": {
        "id": "view-in-github",
        "colab_type": "text"
      },
      "source": [
        "<a href=\"https://colab.research.google.com/github/UriKatsirPrivate/askmydoc-colab/blob/main/askmydoc_colab.ipynb\" target=\"_parent\"><img src=\"https://colab.research.google.com/assets/colab-badge.svg\" alt=\"Open In Colab\"/></a>"
      ]
    },
    {
      "cell_type": "markdown",
      "source": [
        "<a href=\"https://colab.research.google.com/drive/1Sw9Hr-x9P8gy505TQ8gV2WND2fs8PD_4?resourcekey=0-xk7yw3YuoU02NhvJhXxClw\">\n",
        "  <img src=\"https://colab.research.google.com/assets/colab-badge.svg\" alt=\"Open In Colab\"/>\n",
        "</a>\n",
        "\n",
        "# Ask My Document\n",
        "A Q&A Service Powered by AI (Vertex AI Palm2 model, VectorDB, Embeddings API, LangChain & Streamlit.) Hosted on Cloud Run.\n",
        "\n",
        "[see it in action](https://askmydoc.xyz/)"
      ],
      "metadata": {
        "id": "NTlBIE1YLoBI"
      }
    },
    {
      "cell_type": "markdown",
      "source": [
        "## Prerequisites\n",
        "\n",
        "1.   GCP Project\n",
        "2.   [Enable](https://cloud.google.com/apis/docs/getting-started#enabling_apis) Vertex AI API\n",
        "3.   IAM User with *Vertex AI User* permissions\n",
        "  *   Uae this IAM user to login to this colab and to authenticate to Google Cloud in the step below"
      ],
      "metadata": {
        "id": "zj9pNUTG6Xb9"
      }
    },
    {
      "cell_type": "markdown",
      "source": [
        "## Setup"
      ],
      "metadata": {
        "id": "F5ecy6DrSAcV"
      }
    },
    {
      "cell_type": "code",
      "source": [
        "from IPython.display import clear_output\n",
        "\n",
        "!pip -q install google-cloud-aiplatform==1.33.1\n",
        "!pip -q install langchain==0.0.300 chromadb==0.4.12 watchdog==3.0.0\n",
        "!pip -q install streamlit==1.27.0\n",
        "!pip -q install shapely<2.0.0\n",
        "\n",
        "clear_output()\n",
        "\n",
        "# !pip show <packagename> to get information about the package"
      ],
      "metadata": {
        "id": "hNMZJkLizTJ0"
      },
      "execution_count": null,
      "outputs": []
    },
    {
      "cell_type": "markdown",
      "source": [
        "⚠️ Restart the runtime:\n",
        "\n",
        "Runtime--> Restart runtime or run the 2 rows below\n",
        "\n",
        "\n"
      ],
      "metadata": {
        "id": "99esN5gSUJVU"
      }
    },
    {
      "cell_type": "code",
      "source": [
        "# import os\n",
        "# os.kill(os.getpid(), 9)"
      ],
      "metadata": {
        "id": "r6Lic2fAICr7"
      },
      "execution_count": null,
      "outputs": []
    },
    {
      "cell_type": "markdown",
      "source": [
        "🔐 Authenticate to Google Cloud as the IAM user logged into this notebook in order to access your Google Cloud Project.\n",
        "\n",
        "Use the same user you configured during the Prerequisites step above."
      ],
      "metadata": {
        "id": "e62XAJvrhoDQ"
      }
    },
    {
      "cell_type": "code",
      "source": [
        "from google.colab import auth as google_auth\n",
        "google_auth.authenticate_user()"
      ],
      "metadata": {
        "id": "PWqdnbF_2-lu"
      },
      "execution_count": null,
      "outputs": []
    },
    {
      "cell_type": "markdown",
      "source": [
        "## Building Blocks"
      ],
      "metadata": {
        "id": "B6uVAz-fTLcE"
      }
    },
    {
      "cell_type": "markdown",
      "source": [
        "### Input Variables"
      ],
      "metadata": {
        "id": "gzRAmk_bfHlh"
      }
    },
    {
      "cell_type": "code",
      "source": [
        "# @title { run: \"auto\" }\n",
        "project_id = \"landing-zone-demo-341118\" # @param {type:\"string\"}\n",
        "region = \"us-central1\" # @param {type:\"string\"}\n",
        "model_name = \"text-bison\" # @param [\"text-bison\", \"text-bison-32k\", \"code-bison\", \"code-bison-32k\"]\n",
        "max_output_tokens = 1024 # @param {type:\"slider\", min:1, max:8192, step:1, run: \"auto\"}\n",
        "temperature = 0.1 # @param {type:\"slider\", min:0, max:1, step:0.1}\n",
        "top_p = 0.8 # @param {type:\"slider\", min:0, max:1, step:0.1}\n",
        "top_k = 23 # @param {type:\"slider\", min:1, max:40, step:1}\n",
        "\n",
        "if not ('32k' in model_name) and max_output_tokens>1024:\n",
        "  raise RuntimeError(f'{max_output_tokens} output tokens is not a valid value for model {model_name}')\n",
        "\n",
        "# import warnings\n",
        "  # warnings.warn(f'{max_output_tokens} output tokens is not a valid value for model {model_name}',\n",
        "  #       UserWarning\n",
        "  #   )"
      ],
      "metadata": {
        "id": "xG0f5buu64fO"
      },
      "execution_count": null,
      "outputs": []
    },
    {
      "cell_type": "markdown",
      "source": [
        "### Document Loaders\n",
        "\n",
        "[WebBaseLoader](https://python.langchain.com/docs/integrations/document_loaders/web_base)"
      ],
      "metadata": {
        "id": "Vvh18fUAn9ED"
      }
    },
    {
      "cell_type": "code",
      "source": [
        "from langchain.document_loaders import WebBaseLoader\n",
        "\n",
        "url = \"https://cloud.google.com/blog/products/ai-machine-learning/the-rise-of-geneng-how-ai-changes-the-developer-role\"\n",
        "\n",
        "loader = WebBaseLoader(url)\n",
        "\n",
        "data = loader.load()\n",
        "\n",
        "data"
      ],
      "metadata": {
        "id": "0Z6v2z6KoBw-"
      },
      "execution_count": null,
      "outputs": []
    },
    {
      "cell_type": "markdown",
      "source": [
        "### Text Spliters"
      ],
      "metadata": {
        "id": "ZJt1qyvHNwQd"
      }
    },
    {
      "cell_type": "markdown",
      "source": [
        "Sample text to use"
      ],
      "metadata": {
        "id": "FoPhtNdwVn99"
      }
    },
    {
      "cell_type": "code",
      "source": [
        "text=\"\"\"Madam Speaker, Madam Vice President, our First Lady and Second Gentleman. Members of Congress and the Cabinet. Justices of the Supreme Court. My fellow Americans.\n",
        "\n",
        "Last year COVID-19 kept us apart. This year we are finally together again.\n",
        "\n",
        "Tonight, we meet as Democrats Republicans and Independents. But most importantly as Americans.\n",
        "\n",
        "With a duty to one another to the American people to the Constitution.\n",
        "\n",
        "And with an unwavering resolve that freedom will always triumph over tyranny.\n",
        "\n",
        "Six days ago, Russia’s Vladimir Putin sought to shake the foundations of the free world thinking he could make it bend to his menacing ways. But he badly miscalculated.\n",
        "\n",
        "He thought he could roll into Ukraine and the world would roll over. Instead he met a wall of strength he never imagined.\n",
        "\n",
        "He met the Ukrainian people.\n",
        "\n",
        "From President Zelenskyy to every Ukrainian, their fearlessness, their courage, their determination, inspires the world.\n",
        "\n",
        "Groups of citizens blocking tanks with their bodies. Everyone from students to retirees teachers turned soldiers defending their homeland.\n",
        "\n",
        "In this struggle as President Zelenskyy said in his speech to the European Parliament “Light will win over darkness.” The Ukrainian Ambassador to the United States is here tonight.\n",
        "\n",
        "Let each of us here tonight in this Chamber send an unmistakable signal to Ukraine and to the world.\n",
        "\n",
        "Please rise if you are able and show that, Yes, we the United States of America stand with the Ukrainian people.\n",
        "\n",
        "Throughout our history we’ve learned this lesson when dictators do not pay a price for their aggression they cause more chaos.\n",
        "\n",
        "They keep moving.\n",
        "\n",
        "And the costs and the threats to America and the world keep rising.\n",
        "\n",
        "That’s why the NATO Alliance was created to secure peace and stability in Europe after World War 2.\n",
        "\n",
        "The United States is a member along with 29 other nations.\n",
        "\n",
        "It matters. American diplomacy matters. American resolve matters.\n",
        "\n",
        "Putin’s latest attack on Ukraine was premeditated and unprovoked.\n",
        "\n",
        "\n",
        "And fourth, let’s end cancer as we know it.\n",
        "\n",
        "This is personal to me and Jill, to Kamala, and to so many of you.\n",
        "\n",
        "Cancer is the #2 cause of death in America–second only to heart disease.\n",
        "\n",
        "Last month, I announced our plan to supercharge\n",
        "the Cancer Moonshot that President Obama asked me to lead six years ago.\n",
        "\n",
        "Our goal is to cut the cancer death rate by at least 50% over the next 25 years, turn more cancers from death sentences into treatable diseases.\n",
        "\n",
        "More support for patients and families.\n",
        "\n",
        "To get there, I call on Congress to fund ARPA-H, the Advanced Research Projects Agency for Health.\n",
        "\n",
        "It’s based on DARPA—the Defense Department project that led to the Internet, GPS, and so much more.\n",
        "\n",
        "ARPA-H will have a singular purpose—to drive breakthroughs in cancer, Alzheimer’s, diabetes, and more.\n",
        "\n",
        "A unity agenda for the nation.\n",
        "\n",
        "We can do this.\n",
        "\n",
        "My fellow Americans—tonight , we have gathered in a sacred space—the citadel of our democracy.\n",
        "\n",
        "In this Capitol, generation after generation, Americans have debated great questions amid great strife, and have done great things.\n",
        "\n",
        "We have fought for freedom, expanded liberty, defeated totalitarianism and terror.\n",
        "\n",
        "And built the strongest, freest, and most prosperous nation the world has ever known.\n",
        "\n",
        "Now is the hour.\n",
        "\n",
        "Our moment of responsibility.\n",
        "\n",
        "Our test of resolve and conscience, of history itself.\n",
        "\n",
        "It is in this moment that our character is formed. Our purpose is found. Our future is forged.\n",
        "\n",
        "Well I know this nation.\n",
        "\n",
        "We will meet the test.\n",
        "\n",
        "To protect freedom and liberty, to expand fairness and opportunity.\n",
        "\n",
        "We will save democracy.\n",
        "\n",
        "As hard as these times have been, I am more optimistic about America today than I have been my whole life.\n",
        "\n",
        "Because I see the future that is within our grasp.\n",
        "\n",
        "Because I know there is simply nothing beyond our capacity.\n",
        "\n",
        "We are the only nation on Earth that has always turned every crisis we have faced into an opportunity.\n",
        "\n",
        "The only nation that can be defined by a single word: possibilities.\n",
        "\n",
        "So on this night, in our 245th year as a nation, I have come to report on the State of the Union.\n",
        "\n",
        "And my report is this: the State of the Union is strong—because you, the American people, are strong.\n",
        "\n",
        "We are stronger today than we were a year ago.\n",
        "\n",
        "And we will be stronger a year from now than we are today.\n",
        "\n",
        "Now is our moment to meet and overcome the challenges of our time.\n",
        "\n",
        "And we will, as one people.\n",
        "\n",
        "One America.\n",
        "\n",
        "The United States of America.\n",
        "\n",
        "May God bless you all. May God protect our troops.\"\"\"\n",
        "\n"
      ],
      "metadata": {
        "id": "Q2KOm_XgPYAv"
      },
      "execution_count": null,
      "outputs": []
    },
    {
      "cell_type": "markdown",
      "source": [
        "Split the text and show the chunks"
      ],
      "metadata": {
        "id": "JOH4u-3JVu-o"
      }
    },
    {
      "cell_type": "code",
      "source": [
        "from langchain.text_splitter import RecursiveCharacterTextSplitter\n",
        "\n",
        "length_function = len\n",
        "\n",
        "splitter = RecursiveCharacterTextSplitter(\n",
        "    separators=[\"\\n\\n\", \"\\n\", \" \", \"\"],\n",
        "    chunk_size=400,\n",
        "    chunk_overlap=100,\n",
        "    length_function=length_function,\n",
        ")\n",
        "text = text\n",
        "splits = splitter.split_text(text)\n",
        "\n",
        "for split in splits:\n",
        "  print(split)\n",
        "  print(\"=\" * 200)"
      ],
      "metadata": {
        "id": "jv9ZllDON_NN"
      },
      "execution_count": null,
      "outputs": []
    },
    {
      "cell_type": "markdown",
      "source": [
        "### Embeddings"
      ],
      "metadata": {
        "id": "JESLio50hRuS"
      }
    },
    {
      "cell_type": "markdown",
      "source": [
        "Create embeddings and show the first 2"
      ],
      "metadata": {
        "id": "kytbObn0WyqX"
      }
    },
    {
      "cell_type": "code",
      "source": [
        "from langchain.embeddings import VertexAIEmbeddings\n",
        "\n",
        "embeddings_model = VertexAIEmbeddings(project=project_id)\n",
        "\n",
        "embeddings = embeddings_model.embed_documents(splits)\n",
        "# print(splits[0])\n",
        "# print(\"=\" * 100)\n",
        "# print(splits[1])\n",
        "\n",
        "from tabulate import tabulate\n",
        "table_list = [\n",
        "    ['Split', 'Embedding'],\n",
        "    [splits[0], embeddings[0]],\n",
        "    [splits[1], embeddings[1]]\n",
        "]\n",
        "\n",
        "print(tabulate(table_list[1:],headers=table_list[0], tablefmt=\"grid\"))\n",
        "\n",
        "# len(embeddings), len(embeddings[0])\n",
        "# embeddings[0]"
      ],
      "metadata": {
        "id": "NmuFixXuhVn4"
      },
      "execution_count": null,
      "outputs": []
    },
    {
      "cell_type": "markdown",
      "source": [
        "### Vector DB"
      ],
      "metadata": {
        "id": "HmhGBJ0Mpwo4"
      }
    },
    {
      "cell_type": "markdown",
      "source": [
        "#### Chroma"
      ],
      "metadata": {
        "id": "kxxDW-L65Ag9"
      }
    },
    {
      "cell_type": "markdown",
      "source": [
        "Load the embeddings to Vector DB. Show the first DB record"
      ],
      "metadata": {
        "id": "hRtv5pcrXHkJ"
      }
    },
    {
      "cell_type": "code",
      "source": [
        "from langchain.vectorstores import Chroma\n",
        "\n",
        "url_text=\"https://cloud.google.com/blog/products/ai-machine-learning/the-rise-of-geneng-how-ai-changes-the-developer-role\"\n",
        "\n",
        "text_splitter = RecursiveCharacterTextSplitter(chunk_size=2000, chunk_overlap=200)\n",
        "docs = WebBaseLoader(url_text).load()\n",
        "split_texts = text_splitter.split_documents(docs)\n",
        "\n",
        "store = Chroma.from_documents(split_texts, VertexAIEmbeddings(), collection_name=\"hello\")\n",
        "\n",
        "# store.get(include=['embeddings','documents', 'metadatas'], limit=1)\n",
        "\n",
        "embeddings=store.get(include=['embeddings'], limit=1)\n",
        "\n",
        "documents = store.get(include=['documents'], limit=1)\n",
        "\n",
        "from tabulate import tabulate\n",
        "table_list = [\n",
        "    ['embeddings', 'documents'],\n",
        "    [embeddings, documents],\n",
        "\n",
        "]\n",
        "\n",
        "print(tabulate(table_list[1:],headers=table_list[0], tablefmt=\"grid\"))\n",
        "\n"
      ],
      "metadata": {
        "id": "BSayIzaU5wpw"
      },
      "execution_count": null,
      "outputs": []
    },
    {
      "cell_type": "markdown",
      "source": [
        "#### Cloud SQL"
      ],
      "metadata": {
        "id": "MaHppJvM5ENt"
      }
    },
    {
      "cell_type": "markdown",
      "source": [
        "##### Read Me\n",
        "\n",
        "*   Since this Colab runs outside of GCP, it will only connect to Cloud SQL with Public IP access. (Not recommended for production)\n",
        "*   You will have to add the external IP of this colab to the A*uthorized networks* of your Cloud SQL instance.\n",
        "  *   Run *!curl ipecho.net/plain* to get the external IP\n",
        "*   List item\n",
        "\n",
        "\n",
        "\n",
        "\n"
      ],
      "metadata": {
        "id": "kiCkuelFBrGN"
      }
    },
    {
      "cell_type": "code",
      "source": [
        "!pip install -q google-cloud-secret-manager==2.16.2 pgvector==0.1.8"
      ],
      "metadata": {
        "id": "TNjS5yxf5Gjx"
      },
      "execution_count": null,
      "outputs": []
    },
    {
      "cell_type": "code",
      "source": [
        "from google.cloud import secretmanager\n",
        "\n",
        "def get_from_secrets_manager(secret_name):\n",
        "    client = secretmanager.SecretManagerServiceClient()\n",
        "\n",
        "    name = f\"projects/{project_id}/secrets/{secret_name}/versions/1\"\n",
        "\n",
        "    # Access the secret version.\n",
        "    response = client.access_secret_version(request={\"name\": name})\n",
        "\n",
        "    # Extract the payload.\n",
        "    payload = response.payload.data.decode(\"UTF-8\")\n",
        "\n",
        "    return payload"
      ],
      "metadata": {
        "id": "CX0KURcT5K_c"
      },
      "execution_count": null,
      "outputs": []
    },
    {
      "cell_type": "code",
      "source": [
        "# Get the external IP of the Colab\n",
        "!curl ipecho.net/plain\n"
      ],
      "metadata": {
        "id": "BhbOMKxz9BOQ"
      },
      "execution_count": null,
      "outputs": []
    },
    {
      "cell_type": "code",
      "source": [
        "from langchain.vectorstores.pgvector import PGVector\n",
        "import uuid\n",
        "\n",
        "CONNECTION_STRING = get_from_secrets_manager(\"pgvector\")\n",
        "\n",
        "url_text=\"https://cloud.google.com/blog/products/ai-machine-learning/the-rise-of-geneng-how-ai-changes-the-developer-role\"\n",
        "\n",
        "text_splitter = RecursiveCharacterTextSplitter(chunk_size=2000, chunk_overlap=200)\n",
        "docs = WebBaseLoader(url_text).load()\n",
        "split_texts = text_splitter.split_documents(docs)\n",
        "\n",
        "embeddings = VertexAIEmbeddings()\n",
        "\n",
        "# Create a vectorstore from documents\n",
        "store = PGVector(\n",
        "                    collection_name=\"demo-\" + str(uuid.uuid4()),\n",
        "                    connection_string=CONNECTION_STRING,\n",
        "                    embedding_function=embeddings,\n",
        "                           )\n",
        "\n",
        "# Add documents to the vectorstore\n",
        "store.add_documents(split_texts)"
      ],
      "metadata": {
        "id": "EbAorTFi5PY0"
      },
      "execution_count": null,
      "outputs": []
    },
    {
      "cell_type": "markdown",
      "source": [
        "## Run on Streamlit"
      ],
      "metadata": {
        "id": "-3KXB5SJI_pe"
      }
    },
    {
      "cell_type": "markdown",
      "source": [
        "Clone [Github Repo](https://github.com/UriKatsirPrivate/askmydoc-colab)"
      ],
      "metadata": {
        "id": "f6mieW2_fhdZ"
      }
    },
    {
      "cell_type": "code",
      "source": [
        "!git clone https://github.com/UriKatsirPrivate/askmydoc-colab.git"
      ],
      "metadata": {
        "id": "cXTP_zBnXXQk"
      },
      "execution_count": null,
      "outputs": []
    },
    {
      "cell_type": "markdown",
      "source": [
        "Install localtunnel"
      ],
      "metadata": {
        "id": "OpqhW0ZRfM_6"
      }
    },
    {
      "cell_type": "code",
      "source": [
        "!npm install -q localtunnel"
      ],
      "metadata": {
        "id": "4R5SwrtjuPtR"
      },
      "execution_count": null,
      "outputs": []
    },
    {
      "cell_type": "markdown",
      "source": [
        "Run the Service"
      ],
      "metadata": {
        "id": "3qdqm140fRGJ"
      }
    },
    {
      "cell_type": "code",
      "source": [
        "!streamlit run /content/askmydoc-colab/app.py {project_id}  \\\n",
        "                                                {region}  \\\n",
        "                                                {model_name}  \\\n",
        "                                                {max_output_tokens} \\\n",
        "                                                {temperature} \\\n",
        "                                                {top_p} \\\n",
        "                                                {top_k} \\\n",
        "                                               &>/content/logs.txt & curl ipv4.icanhazip.com \\\n",
        "                                               & npx localtunnel --port 8501\n",
        "\n",
        "\n",
        "# !streamlit run /content/askmydoc-colab/app.py \"landing-zone-demo-341118\"  \\\n",
        "#                                                 {region}  \\\n",
        "#                                                 \"text-bison\"  \\\n",
        "#                                                 1024 \\\n",
        "#                                                 0.1 \\\n",
        "#                                                 0.8 \\\n",
        "#                                                 40 \\\n",
        "#                                                &>/content/logs.txt & curl ipv4.icanhazip.com \\\n",
        "#                                                & npx localtunnel --port 8501"
      ],
      "metadata": {
        "id": "-rtViHuzt2S1"
      },
      "execution_count": null,
      "outputs": []
    },
    {
      "cell_type": "markdown",
      "source": [
        "## Deploy to Cloud Run"
      ],
      "metadata": {
        "id": "sv3bpqXZHNNw"
      }
    },
    {
      "cell_type": "markdown",
      "source": [
        "###Prerequisites"
      ],
      "metadata": {
        "id": "UTMiF44Zgd4a"
      }
    },
    {
      "cell_type": "markdown",
      "source": [
        "####GCP\n",
        "1.   [IAM service account](https://cloud.google.com/iam/docs/service-accounts-create#creating) with Cloud Run Invoker and Vertex AI User permissions\n",
        "\n",
        "2.  [Artifact registry Docker repo](https://cloud.google.com/artifact-registry/docs/repositories/create-repos#create-console) (Standard)\n",
        "\n",
        "\n"
      ],
      "metadata": {
        "id": "wlvh1D_7kuku"
      }
    },
    {
      "cell_type": "markdown",
      "source": [
        "####For this Colab\n",
        "\n",
        "1.   Add *Editor* permissions to the user you used in the *Authenticate to GCP* above.\n",
        "2.   Expand askmydoc-colab folder\n",
        "3.   Review and modify deploy.sh\n",
        "  * Replace SERVICE_ACCOUNT_EMAIL with your own service account.\n",
        "        * The service account should have _Cloud Run Invoker_ and _Vertex AI User_ permissions.\n",
        "  * Replace ARTIFACT_REGISTRY_NAME with your own.\n",
        "  * Replace GOOGLE_CLOUD_PROJECT with your own.\n",
        "  * Replace SERVICE_NAME with your own.\n",
        "4.   Review and modify initialization.py\n",
        "  * Replace *project* with your own."
      ],
      "metadata": {
        "id": "Pdb1vD7SgmnN"
      }
    },
    {
      "cell_type": "markdown",
      "source": [
        "###Deploy the Service"
      ],
      "metadata": {
        "id": "XsSVh9ArguDc"
      }
    },
    {
      "cell_type": "code",
      "source": [
        "%%shell\n",
        "\n",
        "cd askmydoc-colab\n",
        "chmod +x deploy.sh\n",
        "sh deploy.sh"
      ],
      "metadata": {
        "id": "YHgljQ06FrA4"
      },
      "execution_count": null,
      "outputs": []
    },
    {
      "cell_type": "markdown",
      "source": [
        "## What's Next (Optional)\n",
        "\n",
        "1.   Add a Load Balancer with a [Serverless Endpoint Group](https://cloud.google.com/load-balancing/docs/negs/serverless-neg-concepts) (NEG)\n",
        "2.   Add a [SSL certificate](https://cloud.google.com/certificate-manager/docs/certificates) to the Load Balancer\n",
        "3.  [Create an A record](https://easydmarc.com/blog/what-is-dns-a-record-and-how-to-add-an-a-record-to-dns/#:~:text=First%2C%20you%20need%20to%20sign,record%20you%20want%20to%20create.) in your domain pointing to the Load balancer."
      ],
      "metadata": {
        "id": "6UAQmSdFqHU3"
      }
    },
    {
      "cell_type": "markdown",
      "source": [
        "## Utilities"
      ],
      "metadata": {
        "id": "F0z9WyTi2Fth"
      }
    },
    {
      "cell_type": "markdown",
      "source": [
        "### Create a python file"
      ],
      "metadata": {
        "id": "0E7FihBOmsFk"
      }
    },
    {
      "cell_type": "code",
      "source": [
        "# %%writefile app_sample.py\n",
        "\n",
        "# import streamlit as st\n",
        "\n",
        "# st.write('Hello, *World1* :sunglasses:')\n",
        "\n"
      ],
      "metadata": {
        "id": "j2rFV2xPsx_P"
      },
      "execution_count": null,
      "outputs": []
    },
    {
      "cell_type": "markdown",
      "source": [
        "###Shell Files\n",
        "\n",
        "[examples](https://colab.sandbox.google.com/drive/1N7p0B-7QWEQ9TIWRgYLueW03uJgJLmka#scrollTo=i7cDqnvavT9i) and [here](https://colab.sandbox.google.com/github/PlantsAndPython/PlantsAndPython/blob/master/M_7_SCRIPTING_WITH_BASH/0_Lessons/7.1_Scripting_with_bash.ipynb)"
      ],
      "metadata": {
        "id": "4TpFeP_M23cN"
      }
    },
    {
      "cell_type": "code",
      "source": [
        "# %%shell\n",
        "\n",
        "# export GOOGLE_CLOUD_PROJECT=landing-zone-demo-341118"
      ],
      "metadata": {
        "id": "iWQIqfgsECkI"
      },
      "execution_count": null,
      "outputs": []
    },
    {
      "cell_type": "markdown",
      "source": [
        "### Zip Folder"
      ],
      "metadata": {
        "id": "VBkGY0vpmw1M"
      }
    },
    {
      "cell_type": "code",
      "source": [
        "# Folder zip to ssistwith folder download\n",
        "\n",
        "# !zip -r /content/file.zip /content/askmydoc-workshop"
      ],
      "metadata": {
        "id": "Pq0pzpLTfkO_"
      },
      "execution_count": null,
      "outputs": []
    },
    {
      "cell_type": "markdown",
      "source": [
        "### Print Tables"
      ],
      "metadata": {
        "id": "VaGmaZmpm3Dj"
      }
    },
    {
      "cell_type": "markdown",
      "source": [
        "[Print Simple Tables](https://colab.sandbox.google.com/github/darrida/darrida-fastpages/blob/master/_notebooks/2020-11-23-Print%20Simple%20Tables.ipynb)"
      ],
      "metadata": {
        "id": "d7cl6NGWkXah"
      }
    },
    {
      "cell_type": "markdown",
      "source": [
        "### [Working with Forms](https://colab.research.google.com/notebooks/forms.ipynb)"
      ],
      "metadata": {
        "id": "kSi5X-cB-Y1B"
      }
    },
    {
      "cell_type": "markdown",
      "source": [
        "### [Errors and Exception handling](https://colab.research.google.com/github/bebi103a/bebi103a.github.io/blob/master/lessons/03/exceptions_and_error_handling.ipynb)"
      ],
      "metadata": {
        "id": "DJz3oEkc-sJ5"
      }
    }
  ]
}