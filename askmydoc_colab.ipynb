{
  "nbformat": 4,
  "nbformat_minor": 0,
  "metadata": {
    "colab": {
      "provenance": [],
      "toc_visible": true
    },
    "kernelspec": {
      "name": "python3",
      "display_name": "Python 3"
    },
    "language_info": {
      "name": "python"
    }
  },
  "cells": [
    {
      "cell_type": "markdown",
      "source": [
        "# askmydoc colab\n",
        "\n",
        "[see it in action](https://askmydoc.app/)"
      ],
      "metadata": {
        "id": "NTlBIE1YLoBI"
      }
    },
    {
      "cell_type": "markdown",
      "source": [
        "## Setup"
      ],
      "metadata": {
        "id": "F5ecy6DrSAcV"
      }
    },
    {
      "cell_type": "code",
      "source": [
        "!git clone https://github.com/UriKatsirPrivate/askmydoc-colab.git"
      ],
      "metadata": {
        "id": "cXTP_zBnXXQk"
      },
      "execution_count": null,
      "outputs": []
    },
    {
      "cell_type": "code",
      "source": [
        "!pip -q install google-cloud-aiplatform\n",
        "!pip -q install langchain chromadb watchdog pypdf bs4 tabulate\n",
        "!pip -q install streamlit"
      ],
      "metadata": {
        "id": "hNMZJkLizTJ0"
      },
      "execution_count": null,
      "outputs": []
    },
    {
      "cell_type": "code",
      "source": [
        "# Restart the runtime\n",
        "# import os\n",
        "# os.kill(os.getpid(), 9)"
      ],
      "metadata": {
        "id": "r6Lic2fAICr7"
      },
      "execution_count": null,
      "outputs": []
    },
    {
      "cell_type": "code",
      "source": [
        "from google.colab import auth as google_auth\n",
        "google_auth.authenticate_user()"
      ],
      "metadata": {
        "id": "PWqdnbF_2-lu"
      },
      "execution_count": null,
      "outputs": []
    },
    {
      "cell_type": "code",
      "source": [
        "!npm install -q localtunnel"
      ],
      "metadata": {
        "id": "4R5SwrtjuPtR"
      },
      "execution_count": null,
      "outputs": []
    },
    {
      "cell_type": "code",
      "source": [
        "!streamlit run /content/askmydoc-colab/app.py &>/content/logs.txt & curl ipv4.icanhazip.com & npx localtunnel --port 8501"
      ],
      "metadata": {
        "id": "-rtViHuzt2S1"
      },
      "execution_count": null,
      "outputs": []
    },
    {
      "cell_type": "markdown",
      "source": [
        "## Deploy to Cloud Run"
      ],
      "metadata": {
        "id": "sv3bpqXZHNNw"
      }
    },
    {
      "cell_type": "code",
      "source": [
        "%%shell\n",
        "\n",
        "cd askmydoc-colab\n",
        "chmod +x deploy.sh\n",
        "sh deploy.sh"
      ],
      "metadata": {
        "id": "YHgljQ06FrA4"
      },
      "execution_count": null,
      "outputs": []
    },
    {
      "cell_type": "markdown",
      "source": [
        "## Utilities"
      ],
      "metadata": {
        "id": "F0z9WyTi2Fth"
      }
    },
    {
      "cell_type": "code",
      "source": [
        "# Create a python file\n",
        "\n",
        "# %%writefile app_sample.py\n",
        "\n",
        "# import streamlit as st\n",
        "\n",
        "# st.write('Hello, *World1* :sunglasses:')\n",
        "\n"
      ],
      "metadata": {
        "id": "j2rFV2xPsx_P"
      },
      "execution_count": null,
      "outputs": []
    },
    {
      "cell_type": "markdown",
      "source": [
        "Shell files\n",
        "\n",
        "[examples](https://colab.sandbox.google.com/drive/1N7p0B-7QWEQ9TIWRgYLueW03uJgJLmka#scrollTo=i7cDqnvavT9i) and [here](https://colab.sandbox.google.com/github/PlantsAndPython/PlantsAndPython/blob/master/M_7_SCRIPTING_WITH_BASH/0_Lessons/7.1_Scripting_with_bash.ipynb)"
      ],
      "metadata": {
        "id": "4TpFeP_M23cN"
      }
    },
    {
      "cell_type": "code",
      "source": [
        "# %%shell\n",
        "\n",
        "# export GOOGLE_CLOUD_PROJECT=landing-zone-demo-341118"
      ],
      "metadata": {
        "id": "iWQIqfgsECkI"
      },
      "execution_count": null,
      "outputs": []
    },
    {
      "cell_type": "code",
      "source": [
        "# Folder zip to ssistwith folder download\n",
        "\n",
        "# !zip -r /content/file.zip /content/askmydoc-workshop"
      ],
      "metadata": {
        "id": "Pq0pzpLTfkO_"
      },
      "execution_count": null,
      "outputs": []
    }
  ]
}